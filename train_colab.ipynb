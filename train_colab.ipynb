{
  "cells": [
    {
      "cell_type": "code",
      "source": [
        "from google.colab import drive\n",
        "drive.mount('/content/drive')\n",
        "import os\n",
        "path = '/content/drive/My Drive'\n",
        "os.listdir(path)"
      ],
      "metadata": {
        "colab": {
          "base_uri": "https://localhost:8080/"
        },
        "id": "thtj51166OVt",
        "outputId": "a6385cab-eefb-4146-de38-b6bff0e83a8f"
      },
      "execution_count": 1,
      "outputs": [
        {
          "output_type": "stream",
          "name": "stdout",
          "text": [
            "Drive already mounted at /content/drive; to attempt to forcibly remount, call drive.mount(\"/content/drive\", force_remount=True).\n"
          ]
        },
        {
          "output_type": "execute_result",
          "data": {
            "text/plain": [
              "['Colab Notebooks', 'v3', 'data', 'pretrain', 'res', 'ckpt', 'train.py']"
            ]
          },
          "metadata": {},
          "execution_count": 1
        }
      ]
    },
    {
      "cell_type": "code",
      "execution_count": 2,
      "metadata": {
        "id": "ajbUN37O4ELt"
      },
      "outputs": [],
      "source": [
        "%load_ext autoreload\n",
        "%autoreload 2"
      ]
    },
    {
      "cell_type": "code",
      "execution_count": 3,
      "metadata": {
        "id": "lna--H-g4ELx"
      },
      "outputs": [],
      "source": [
        "import json\n",
        "import sys, json\n",
        "import torch\n",
        "import os\n",
        "import numpy as np"
      ]
    },
    {
      "cell_type": "code",
      "execution_count": 4,
      "metadata": {
        "colab": {
          "base_uri": "https://localhost:8080/"
        },
        "id": "xINFyh674ELy",
        "outputId": "956f5327-8efd-41f6-be8d-55fa10de3959"
      },
      "outputs": [
        {
          "output_type": "execute_result",
          "data": {
            "text/plain": [
              "['',\n",
              " '/content',\n",
              " '/env/python',\n",
              " '/usr/lib/python37.zip',\n",
              " '/usr/lib/python3.7',\n",
              " '/usr/lib/python3.7/lib-dynload',\n",
              " '/usr/local/lib/python3.7/dist-packages',\n",
              " '/usr/lib/python3/dist-packages',\n",
              " '/usr/local/lib/python3.7/dist-packages/IPython/extensions',\n",
              " '/root/.ipython']"
            ]
          },
          "metadata": {},
          "execution_count": 4
        }
      ],
      "source": [
        "import sys\n",
        "sys.path"
      ]
    },
    {
      "cell_type": "code",
      "execution_count": 5,
      "metadata": {
        "colab": {
          "base_uri": "https://localhost:8080/"
        },
        "id": "gCwsJ3Go4ELz",
        "outputId": "05974483-75b3-41f4-a67a-e5ca4f217f85"
      },
      "outputs": [
        {
          "output_type": "stream",
          "name": "stdout",
          "text": [
            "{'token': ['后', '世', '解', '州', '、', '当', '阳', '、', '洛', '阳', '等', '地', '关', '姓', '氏', '族', '，', '常', '自', '称', '为', '关', '兴', '后', '裔', '，', '关', '羽', '-', '历', '史', '概', '括', '关', '兴', '蜀', '侍', '中', '、', '中', '监', '军', '。'], 'h': {'name': '关兴', 'pos': [21, 22]}, 't': {'name': '关羽', 'pos': [26, 27]}, 'relation': '父母'}\n",
            "\n",
            "\n",
            "后世解州、当阳、洛阳等地关姓氏族，常自称为关兴后裔，关羽-历史概括关兴蜀侍中、中监军。\n",
            "<关兴,父母,关羽>\n",
            "\n",
            "--------------------------------------------------\n",
            "{'token': ['郭', '台', '铭', '与', '二', '弟', '郭', '台', '强', '聽', '2', '0', '1', '0', '年', '六', '月', '十', '日', '，', '当', '台', '湾', '首', '富', '郭', '台', '铭', '正', '在', '为', '富', '士', '康', '深', '圳', '厂'], 'h': {'name': '郭台铭', 'pos': [0, 2]}, 't': {'name': '郭台强', 'pos': [6, 8]}, 'relation': '兄弟姐妹'}\n",
            "\n",
            "\n",
            "郭台铭与二弟郭台强聽2010年六月十日，当台湾首富郭台铭正在为富士康深圳厂\n",
            "<郭台铭,兄弟姐妹,郭台强>\n",
            "\n",
            "--------------------------------------------------\n",
            "{'token': ['年', '3', '月', '，', '国', '家', '体', '育', '总', '局', '举', '办', '庆', '祝', '“', '三', '鈥', '\\ue76b', '恕', '惫', '\\ue30b', '世', '投', '\\ue1ed', '九', '\\ue194', '诹', '\\ue01a', '痘', '幔', '�', '眭', '禄', '、', '江', '钰', '源', '、', '何', '可', '欣', '、', '杨', '伊', '琳', '、', '张', '宇', '皎', '等', '重', '演', '《', 'n', 'o', 'b', 'o', 'd', 'y', '》', '。'], 'h': {'name': '眭禄', 'pos': [31, 32]}, 't': {'name': '何可欣', 'pos': [38, 40]}, 'relation': '合作'}\n",
            "\n",
            "\n",
            "年3月，国家体育总局举办庆祝“三鈥恕惫世投九诹痘幔�眭禄、江钰源、何可欣、杨伊琳、张宇皎等重演《nobody》。\n",
            "<眭禄,合作,何可欣>\n",
            "\n",
            "--------------------------------------------------\n",
            "{'token': ['、', '白', '雪', '仙', '、', '凤', '凰', '女', '、', '林', '家', '声', '6', '3', '李', '后', '主', '（', '1', '9', '6', '8', '）', '靓', '次', '伯', '、', '白', '雪', '仙', '、', '任', '剑', '辉', '、', '梁', '醒', '波', '与', '吴', '君', '丽', '：', '1', '玉', '女', '香', '车', '（', '1', '9', '5', '5', '）', '任', '剑', '辉', '、', '白', '雪', '仙', '、'], 'h': {'name': '白雪仙', 'pos': [1, 3]}, 't': {'name': '林家声', 'pos': [9, 11]}, 'relation': 'unknown'}\n",
            "\n",
            "\n",
            "、白雪仙、凤凰女、林家声63李后主（1968）靓次伯、白雪仙、任剑辉、梁醒波与吴君丽：1玉女香车（1955）任剑辉、白雪仙、\n",
            "<白雪仙,unknown,林家声>\n",
            "\n",
            "--------------------------------------------------\n",
            "{'token': ['曹', '操', '念', '及', '昔', '日', '与', '蔡', '邕', '的', '交', '情', '，', '又', '想', '到', '蔡', '文', '姬', '悲', '惨', '的', '身', '世', '，', '倘', '若', '处', '死', '董', '祀', '，', '文', '姬', '势', '难', '自', '存', '，', '于', '是', '宽', '宥', '了', '董', '祀', '。'], 'h': {'name': '董祀', 'pos': [29, 30]}, 't': {'name': '蔡邕', 'pos': [7, 8]}, 'relation': 'unknown'}\n",
            "\n",
            "\n",
            "曹操念及昔日与蔡邕的交情，又想到蔡文姬悲惨的身世，倘若处死董祀，文姬势难自存，于是宽宥了董祀。\n",
            "<董祀,unknown,蔡邕>\n",
            "\n",
            "--------------------------------------------------\n",
            "{'token': ['一', '心', '想', '让', '邢', '夫', '人', '难', '堪', '，', '王', '熙', '凤', '的', '后', '台', '贾', '母', '则', '跳', '出', '来', '给', '王', '熙', '凤', '没', '脸', '，', '她', '们', '的', '斗', '争', '此', '消', '彼', '涨', '、', '此', '起', '彼', '伏', '，', '难', '以', '完', '结', '。'], 'h': {'name': '贾母', 'pos': [16, 17]}, 't': {'name': '王熙凤', 'pos': [10, 12]}, 'relation': 'unknown'}\n",
            "\n",
            "\n",
            "一心想让邢夫人难堪，王熙凤的后台贾母则跳出来给王熙凤没脸，她们的斗争此消彼涨、此起彼伏，难以完结。\n",
            "<贾母,unknown,王熙凤>\n",
            "\n",
            "--------------------------------------------------\n",
            "{'token': ['与', '毛', '泽', '东', '生', '三', '子', '三', '女', '，', '贺', '子', '珍', '是', '李', '敏', '和', '毛', '泽', '东', '惟', '一', '在', '世', '的', '孩', '子', '。'], 'h': {'name': '毛泽东', 'pos': [1, 3]}, 't': {'name': '李敏', 'pos': [14, 15]}, 'relation': '父母'}\n",
            "\n",
            "\n",
            "与毛泽东生三子三女，贺子珍是李敏和毛泽东惟一在世的孩子。\n",
            "<毛泽东,父母,李敏>\n",
            "\n",
            "--------------------------------------------------\n",
            "{'token': ['曾', '国', '荃', '比', '曾', '国', '藩', '小', '1', '3', '岁', '，', '生', '于', '道', '光', '四', '年', '（', '1', '8', '2', '4', '年', '）', '。'], 'h': {'name': '曾国藩', 'pos': [4, 6]}, 't': {'name': '曾国荃', 'pos': [0, 2]}, 'relation': '兄弟姐妹'}\n",
            "\n",
            "\n",
            "曾国荃比曾国藩小13岁，生于道光四年（1824年）。\n",
            "<曾国藩,兄弟姐妹,曾国荃>\n",
            "\n",
            "--------------------------------------------------\n",
            "{'token': ['因', '此', '，', '焦', '守', '云', '在', '焦', '裕', '禄', '的', '6', '个', '孩', '子', '中', '，', '出', '镜', '率', '、', '知', '名', '度', '应', '该', '是', '最', '高', '的', '。'], 'h': {'name': '焦裕禄', 'pos': [7, 9]}, 't': {'name': '焦守云', 'pos': [3, 5]}, 'relation': '父母'}\n",
            "\n",
            "\n",
            "因此，焦守云在焦裕禄的6个孩子中，出镜率、知名度应该是最高的。\n",
            "<焦裕禄,父母,焦守云>\n",
            "\n",
            "--------------------------------------------------\n",
            "{'token': ['曹', '棘', '曹', '徽', '曹', '茂', '六', '位', '姐', '妹', '：', '清', '河', '长', '公', '主', '（', '姐', '）', '曹', '节', '（', '妹', '）', '曹', '宪', '（', '妹', '）', '安', '阳', '公', '主', '金', '乡', '公', '主', '[', '1', ']', '曹', '华', '-', '隋', '唐', '之', '际', '文', '字', '学', '家', '曹', '宪', '，', '隋', '唐', '之', '际', '文', '字', '学', '家', '。'], 'h': {'name': '曹棘', 'pos': [0, 1]}, 't': {'name': '曹徽', 'pos': [2, 3]}, 'relation': 'unknown'}\n",
            "\n",
            "\n",
            "曹棘曹徽曹茂六位姐妹：清河长公主（姐）曹节（妹）曹宪（妹）安阳公主金乡公主[1]曹华-隋唐之际文字学家曹宪，隋唐之际文字学家。\n",
            "<曹棘,unknown,曹徽>\n",
            "\n",
            "--------------------------------------------------\n"
          ]
        }
      ],
      "source": [
        "MAX_LEN = 10\n",
        "with open(\"/content/drive/My Drive/data/people-relation/people-relation_train.txt\",\"r\") as f:\n",
        "    index = 0\n",
        "    while True:\n",
        "        line = json.loads(f.readline())\n",
        "        print(line)\n",
        "        print(\"\\n\")\n",
        "        print(\"\".join(line['token']))\n",
        "        print(\"<{},{},{}>\".format(line['h']['name'],line['relation'],line['t']['name'] ))\n",
        "        print(\"\")\n",
        "        print(\"-\"*50)\n",
        "        index += 1\n",
        "        if index == MAX_LEN:\n",
        "            break"
      ]
    },
    {
      "cell_type": "code",
      "source": [
        "#!pip install transformers"
      ],
      "metadata": {
        "colab": {
          "base_uri": "https://localhost:8080/"
        },
        "id": "WR2tinwbChMv",
        "outputId": "98921759-41e8-41c6-fecd-b70c96017ec0"
      },
      "execution_count": 7,
      "outputs": [
        {
          "output_type": "stream",
          "name": "stdout",
          "text": [
            "Collecting transformers\n",
            "  Downloading transformers-4.18.0-py3-none-any.whl (4.0 MB)\n",
            "\u001b[K     |████████████████████████████████| 4.0 MB 5.4 MB/s \n",
            "\u001b[?25hCollecting tokenizers!=0.11.3,<0.13,>=0.11.1\n",
            "  Downloading tokenizers-0.12.1-cp37-cp37m-manylinux_2_12_x86_64.manylinux2010_x86_64.whl (6.6 MB)\n",
            "\u001b[K     |████████████████████████████████| 6.6 MB 34.6 MB/s \n",
            "\u001b[?25hRequirement already satisfied: filelock in /usr/local/lib/python3.7/dist-packages (from transformers) (3.6.0)\n",
            "Requirement already satisfied: numpy>=1.17 in /usr/local/lib/python3.7/dist-packages (from transformers) (1.21.6)\n",
            "Requirement already satisfied: packaging>=20.0 in /usr/local/lib/python3.7/dist-packages (from transformers) (21.3)\n",
            "Collecting huggingface-hub<1.0,>=0.1.0\n",
            "  Downloading huggingface_hub-0.5.1-py3-none-any.whl (77 kB)\n",
            "\u001b[K     |████████████████████████████████| 77 kB 6.6 MB/s \n",
            "\u001b[?25hCollecting pyyaml>=5.1\n",
            "  Downloading PyYAML-6.0-cp37-cp37m-manylinux_2_5_x86_64.manylinux1_x86_64.manylinux_2_12_x86_64.manylinux2010_x86_64.whl (596 kB)\n",
            "\u001b[K     |████████████████████████████████| 596 kB 44.1 MB/s \n",
            "\u001b[?25hRequirement already satisfied: regex!=2019.12.17 in /usr/local/lib/python3.7/dist-packages (from transformers) (2019.12.20)\n",
            "Collecting sacremoses\n",
            "  Downloading sacremoses-0.0.49-py3-none-any.whl (895 kB)\n",
            "\u001b[K     |████████████████████████████████| 895 kB 40.3 MB/s \n",
            "\u001b[?25hRequirement already satisfied: importlib-metadata in /usr/local/lib/python3.7/dist-packages (from transformers) (4.11.3)\n",
            "Requirement already satisfied: tqdm>=4.27 in /usr/local/lib/python3.7/dist-packages (from transformers) (4.64.0)\n",
            "Requirement already satisfied: requests in /usr/local/lib/python3.7/dist-packages (from transformers) (2.23.0)\n",
            "Requirement already satisfied: typing-extensions>=3.7.4.3 in /usr/local/lib/python3.7/dist-packages (from huggingface-hub<1.0,>=0.1.0->transformers) (4.1.1)\n",
            "Requirement already satisfied: pyparsing!=3.0.5,>=2.0.2 in /usr/local/lib/python3.7/dist-packages (from packaging>=20.0->transformers) (3.0.8)\n",
            "Requirement already satisfied: zipp>=0.5 in /usr/local/lib/python3.7/dist-packages (from importlib-metadata->transformers) (3.8.0)\n",
            "Requirement already satisfied: chardet<4,>=3.0.2 in /usr/local/lib/python3.7/dist-packages (from requests->transformers) (3.0.4)\n",
            "Requirement already satisfied: certifi>=2017.4.17 in /usr/local/lib/python3.7/dist-packages (from requests->transformers) (2021.10.8)\n",
            "Requirement already satisfied: urllib3!=1.25.0,!=1.25.1,<1.26,>=1.21.1 in /usr/local/lib/python3.7/dist-packages (from requests->transformers) (1.24.3)\n",
            "Requirement already satisfied: idna<3,>=2.5 in /usr/local/lib/python3.7/dist-packages (from requests->transformers) (2.10)\n",
            "Requirement already satisfied: six in /usr/local/lib/python3.7/dist-packages (from sacremoses->transformers) (1.15.0)\n",
            "Requirement already satisfied: click in /usr/local/lib/python3.7/dist-packages (from sacremoses->transformers) (7.1.2)\n",
            "Requirement already satisfied: joblib in /usr/local/lib/python3.7/dist-packages (from sacremoses->transformers) (1.1.0)\n",
            "Installing collected packages: pyyaml, tokenizers, sacremoses, huggingface-hub, transformers\n",
            "  Attempting uninstall: pyyaml\n",
            "    Found existing installation: PyYAML 3.13\n",
            "    Uninstalling PyYAML-3.13:\n",
            "      Successfully uninstalled PyYAML-3.13\n",
            "Successfully installed huggingface-hub-0.5.1 pyyaml-6.0 sacremoses-0.0.49 tokenizers-0.12.1 transformers-4.18.0\n"
          ]
        }
      ]
    },
    {
      "cell_type": "code",
      "source": [
        "!python /content/drive/My\\ Drive/train.py"
      ],
      "metadata": {
        "colab": {
          "base_uri": "https://localhost:8080/"
        },
        "id": "2kz7subeDfBF",
        "outputId": "43f4351e-d1a2-4afc-a739-900dbccd0732"
      },
      "execution_count": 9,
      "outputs": [
        {
          "output_type": "stream",
          "name": "stdout",
          "text": [
            "{'父母': 0, '夫妻': 1, '师生': 2, '兄弟姐妹': 3, '合作': 4, '情侣': 5, '祖孙': 6, '好友': 7, '亲戚': 8, '同门': 9, '上下级': 10, 'unknown': 11}\n",
            "2022-04-24 15:01:57,785 - root - INFO - Loading BERT pre-trained checkpoint.\n",
            "Some weights of the model checkpoint at /content/drive/My Drive/pretrain/chinese_wwm_pytorch were not used when initializing BertModel: ['cls.predictions.bias', 'cls.predictions.transform.dense.weight', 'cls.predictions.decoder.weight', 'cls.predictions.transform.LayerNorm.weight', 'cls.seq_relationship.bias', 'cls.seq_relationship.weight', 'cls.predictions.transform.dense.bias', 'cls.predictions.transform.LayerNorm.bias']\n",
            "- This IS expected if you are initializing BertModel from the checkpoint of a model trained on another task or with another architecture (e.g. initializing a BertForSequenceClassification model from a BertForPreTraining model).\n",
            "- This IS NOT expected if you are initializing BertModel from the checkpoint of a model that you expect to be exactly identical (initializing a BertForSequenceClassification model from a BertForSequenceClassification model).\n",
            "2022-04-24 15:02:25,454 - root - INFO - Loaded sentence RE dataset /content/drive/My Drive/data/people-relation/people-relation_train.txt with 198000 lines and 12 relations.\n",
            "/usr/local/lib/python3.7/dist-packages/torch/utils/data/dataloader.py:481: UserWarning: This DataLoader will create 8 worker processes in total. Our suggested max number of worker in current system is 2, which is smaller than what this DataLoader is going to create. Please be aware that excessive worker creation might get DataLoader running slow or even freeze, lower the worker number to avoid potential slowness/freeze if necessary.\n",
            "  cpuset_checked))\n",
            "2022-04-24 15:02:25,563 - root - INFO - Loaded sentence RE dataset /content/drive/My Drive/data/people-relation/people-relation_val.txt with 1000 lines and 12 relations.\n",
            "2022-04-24 15:02:25,669 - root - INFO - Loaded sentence RE dataset /content/drive/My Drive/data/people-relation/people-relation_val.txt with 1000 lines and 12 relations.\n",
            "/usr/local/lib/python3.7/dist-packages/transformers/optimization.py:309: FutureWarning: This implementation of AdamW is deprecated and will be removed in a future version. Use the PyTorch implementation torch.optim.AdamW instead, or set `no_deprecation_warning=True` to disable this warning\n",
            "  FutureWarning,\n",
            "2022-04-24 15:02:25,684 - root - INFO - === Epoch 0 train ===\n",
            "100% 3094/3094 [1:21:49<00:00,  1.59s/it, acc=0.736, loss=0.802]\n",
            "2022-04-24 16:24:15,540 - root - INFO - === Epoch 0 val ===\n",
            "100% 16/16 [00:10<00:00,  1.58it/s, acc=0.873]\n",
            "2022-04-24 16:24:25,697 - root - INFO - Evaluation ckpt: {'acc': 0.873, 'micro_p': 0.873, 'micro_r': 0.873, 'micro_f1': 0.8729999999999999}.\n",
            "2022-04-24 16:24:25,697 - root - INFO - Metric acc current / best: 0.873 / 0\n",
            "2022-04-24 16:24:25,697 - root - INFO - Best ckpt and saved.\n",
            "Traceback (most recent call last):\n",
            "  File \"/content/drive/My Drive/train.py\", line 45, in <module>\n",
            "    framework.train_model()\n",
            "  File \"/content/drive/My Drive/v3/opennre/framework/sentence_re.py\", line 137, in train_model\n",
            "    os.mkdir(folder_path)\n",
            "FileNotFoundError: [Errno 2] No such file or directory: './ckpt/v3'\n"
          ]
        }
      ]
    }
  ],
  "metadata": {
    "kernelspec": {
      "display_name": "Python 3 (ipykernel)",
      "language": "python",
      "name": "python3"
    },
    "language_info": {
      "codemirror_mode": {
        "name": "ipython",
        "version": 3
      },
      "file_extension": ".py",
      "mimetype": "text/x-python",
      "name": "python",
      "nbconvert_exporter": "python",
      "pygments_lexer": "ipython3",
      "version": "3.9.7"
    },
    "colab": {
      "name": "Training-Project.ipynb",
      "provenance": []
    },
    "accelerator": "GPU"
  },
  "nbformat": 4,
  "nbformat_minor": 0
}