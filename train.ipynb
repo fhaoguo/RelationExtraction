{
 "cells": [
  {
   "cell_type": "code",
   "execution_count": 1,
   "metadata": {},
   "outputs": [],
   "source": [
    "%load_ext autoreload\n",
    "%autoreload 2"
   ]
  },
  {
   "cell_type": "code",
   "execution_count": 2,
   "metadata": {},
   "outputs": [],
   "source": [
    "import json\n",
    "import sys, json\n",
    "import torch\n",
    "import os\n",
    "import numpy as np\n",
    "import opennre\n",
    "from opennre import encoder, model, framework"
   ]
  },
  {
   "cell_type": "code",
   "execution_count": 3,
   "metadata": {},
   "outputs": [
    {
     "name": "stdout",
     "output_type": "stream",
     "text": [
      "opennre                      0.1                 /Users/fenghaoguo/Downloads/github/OpenNRE\r\n"
     ]
    },
    {
     "data": {
      "text/plain": "['/Applications/PyCharm.app/Contents/plugins/python/helpers-pro/jupyter_debug',\n '/Applications/PyCharm.app/Contents/plugins/python/helpers/pydev',\n '/Users/fenghaoguo/code/git/fhaoguo/RelationExtraction',\n '/Users/fenghaoguo/code/git/fhaoguo/RelationExtraction',\n '/Users/fenghaoguo/opt/anaconda3/envs/p39/lib/python39.zip',\n '/Users/fenghaoguo/opt/anaconda3/envs/p39/lib/python3.9',\n '/Users/fenghaoguo/opt/anaconda3/envs/p39/lib/python3.9/lib-dynload',\n '',\n '/Users/fenghaoguo/.local/lib/python3.9/site-packages',\n '/Users/fenghaoguo/opt/anaconda3/envs/p39/lib/python3.9/site-packages',\n '/Users/fenghaoguo/Downloads/github/OpenNRE']"
     },
     "execution_count": 3,
     "metadata": {},
     "output_type": "execute_result"
    }
   ],
   "source": [
    "!pip list | grep opennre\n",
    "import sys\n",
    "sys.path"
   ]
  },
  {
   "cell_type": "code",
   "execution_count": 5,
   "metadata": {},
   "outputs": [
    {
     "name": "stdout",
     "output_type": "stream",
     "text": [
      "{'token': ['后', '世', '解', '州', '、', '当', '阳', '、', '洛', '阳', '等', '地', '关', '姓', '氏', '族', '，', '常', '自', '称', '为', '关', '兴', '后', '裔', '，', '关', '羽', '-', '历', '史', '概', '括', '关', '兴', '蜀', '侍', '中', '、', '中', '监', '军', '。'], 'h': {'name': '关兴', 'pos': [21, 22]}, 't': {'name': '关羽', 'pos': [26, 27]}, 'relation': '父母'}\n",
      "\n",
      "\n",
      "后世解州、当阳、洛阳等地关姓氏族，常自称为关兴后裔，关羽-历史概括关兴蜀侍中、中监军。\n",
      "<关兴,父母,关羽>\n",
      "\n",
      "--------------------------------------------------\n",
      "{'token': ['郭', '台', '铭', '与', '二', '弟', '郭', '台', '强', '聽', '2', '0', '1', '0', '年', '六', '月', '十', '日', '，', '当', '台', '湾', '首', '富', '郭', '台', '铭', '正', '在', '为', '富', '士', '康', '深', '圳', '厂'], 'h': {'name': '郭台铭', 'pos': [0, 2]}, 't': {'name': '郭台强', 'pos': [6, 8]}, 'relation': '兄弟姐妹'}\n",
      "\n",
      "\n",
      "郭台铭与二弟郭台强聽2010年六月十日，当台湾首富郭台铭正在为富士康深圳厂\n",
      "<郭台铭,兄弟姐妹,郭台强>\n",
      "\n",
      "--------------------------------------------------\n",
      "{'token': ['年', '3', '月', '，', '国', '家', '体', '育', '总', '局', '举', '办', '庆', '祝', '“', '三', '鈥', '\\ue76b', '恕', '惫', '\\ue30b', '世', '投', '\\ue1ed', '九', '\\ue194', '诹', '\\ue01a', '痘', '幔', '�', '眭', '禄', '、', '江', '钰', '源', '、', '何', '可', '欣', '、', '杨', '伊', '琳', '、', '张', '宇', '皎', '等', '重', '演', '《', 'n', 'o', 'b', 'o', 'd', 'y', '》', '。'], 'h': {'name': '眭禄', 'pos': [31, 32]}, 't': {'name': '何可欣', 'pos': [38, 40]}, 'relation': '合作'}\n",
      "\n",
      "\n",
      "年3月，国家体育总局举办庆祝“三鈥恕惫世投九诹痘幔�眭禄、江钰源、何可欣、杨伊琳、张宇皎等重演《nobody》。\n",
      "<眭禄,合作,何可欣>\n",
      "\n",
      "--------------------------------------------------\n",
      "{'token': ['、', '白', '雪', '仙', '、', '凤', '凰', '女', '、', '林', '家', '声', '6', '3', '李', '后', '主', '（', '1', '9', '6', '8', '）', '靓', '次', '伯', '、', '白', '雪', '仙', '、', '任', '剑', '辉', '、', '梁', '醒', '波', '与', '吴', '君', '丽', '：', '1', '玉', '女', '香', '车', '（', '1', '9', '5', '5', '）', '任', '剑', '辉', '、', '白', '雪', '仙', '、'], 'h': {'name': '白雪仙', 'pos': [1, 3]}, 't': {'name': '林家声', 'pos': [9, 11]}, 'relation': 'unknown'}\n",
      "\n",
      "\n",
      "、白雪仙、凤凰女、林家声63李后主（1968）靓次伯、白雪仙、任剑辉、梁醒波与吴君丽：1玉女香车（1955）任剑辉、白雪仙、\n",
      "<白雪仙,unknown,林家声>\n",
      "\n",
      "--------------------------------------------------\n",
      "{'token': ['曹', '操', '念', '及', '昔', '日', '与', '蔡', '邕', '的', '交', '情', '，', '又', '想', '到', '蔡', '文', '姬', '悲', '惨', '的', '身', '世', '，', '倘', '若', '处', '死', '董', '祀', '，', '文', '姬', '势', '难', '自', '存', '，', '于', '是', '宽', '宥', '了', '董', '祀', '。'], 'h': {'name': '董祀', 'pos': [29, 30]}, 't': {'name': '蔡邕', 'pos': [7, 8]}, 'relation': 'unknown'}\n",
      "\n",
      "\n",
      "曹操念及昔日与蔡邕的交情，又想到蔡文姬悲惨的身世，倘若处死董祀，文姬势难自存，于是宽宥了董祀。\n",
      "<董祀,unknown,蔡邕>\n",
      "\n",
      "--------------------------------------------------\n",
      "{'token': ['一', '心', '想', '让', '邢', '夫', '人', '难', '堪', '，', '王', '熙', '凤', '的', '后', '台', '贾', '母', '则', '跳', '出', '来', '给', '王', '熙', '凤', '没', '脸', '，', '她', '们', '的', '斗', '争', '此', '消', '彼', '涨', '、', '此', '起', '彼', '伏', '，', '难', '以', '完', '结', '。'], 'h': {'name': '贾母', 'pos': [16, 17]}, 't': {'name': '王熙凤', 'pos': [10, 12]}, 'relation': 'unknown'}\n",
      "\n",
      "\n",
      "一心想让邢夫人难堪，王熙凤的后台贾母则跳出来给王熙凤没脸，她们的斗争此消彼涨、此起彼伏，难以完结。\n",
      "<贾母,unknown,王熙凤>\n",
      "\n",
      "--------------------------------------------------\n",
      "{'token': ['与', '毛', '泽', '东', '生', '三', '子', '三', '女', '，', '贺', '子', '珍', '是', '李', '敏', '和', '毛', '泽', '东', '惟', '一', '在', '世', '的', '孩', '子', '。'], 'h': {'name': '毛泽东', 'pos': [1, 3]}, 't': {'name': '李敏', 'pos': [14, 15]}, 'relation': '父母'}\n",
      "\n",
      "\n",
      "与毛泽东生三子三女，贺子珍是李敏和毛泽东惟一在世的孩子。\n",
      "<毛泽东,父母,李敏>\n",
      "\n",
      "--------------------------------------------------\n",
      "{'token': ['曾', '国', '荃', '比', '曾', '国', '藩', '小', '1', '3', '岁', '，', '生', '于', '道', '光', '四', '年', '（', '1', '8', '2', '4', '年', '）', '。'], 'h': {'name': '曾国藩', 'pos': [4, 6]}, 't': {'name': '曾国荃', 'pos': [0, 2]}, 'relation': '兄弟姐妹'}\n",
      "\n",
      "\n",
      "曾国荃比曾国藩小13岁，生于道光四年（1824年）。\n",
      "<曾国藩,兄弟姐妹,曾国荃>\n",
      "\n",
      "--------------------------------------------------\n",
      "{'token': ['因', '此', '，', '焦', '守', '云', '在', '焦', '裕', '禄', '的', '6', '个', '孩', '子', '中', '，', '出', '镜', '率', '、', '知', '名', '度', '应', '该', '是', '最', '高', '的', '。'], 'h': {'name': '焦裕禄', 'pos': [7, 9]}, 't': {'name': '焦守云', 'pos': [3, 5]}, 'relation': '父母'}\n",
      "\n",
      "\n",
      "因此，焦守云在焦裕禄的6个孩子中，出镜率、知名度应该是最高的。\n",
      "<焦裕禄,父母,焦守云>\n",
      "\n",
      "--------------------------------------------------\n",
      "{'token': ['曹', '棘', '曹', '徽', '曹', '茂', '六', '位', '姐', '妹', '：', '清', '河', '长', '公', '主', '（', '姐', '）', '曹', '节', '（', '妹', '）', '曹', '宪', '（', '妹', '）', '安', '阳', '公', '主', '金', '乡', '公', '主', '[', '1', ']', '曹', '华', '-', '隋', '唐', '之', '际', '文', '字', '学', '家', '曹', '宪', '，', '隋', '唐', '之', '际', '文', '字', '学', '家', '。'], 'h': {'name': '曹棘', 'pos': [0, 1]}, 't': {'name': '曹徽', 'pos': [2, 3]}, 'relation': 'unknown'}\n",
      "\n",
      "\n",
      "曹棘曹徽曹茂六位姐妹：清河长公主（姐）曹节（妹）曹宪（妹）安阳公主金乡公主[1]曹华-隋唐之际文字学家曹宪，隋唐之际文字学家。\n",
      "<曹棘,unknown,曹徽>\n",
      "\n",
      "--------------------------------------------------\n"
     ]
    }
   ],
   "source": [
    "MAX_LEN = 10\n",
    "with open(\"./data/people-relation/people-relation_train.txt\",\"r\") as f:\n",
    "    index = 0\n",
    "    while True:\n",
    "        line = json.loads(f.readline())\n",
    "        print(line)\n",
    "        print(\"\\n\")\n",
    "        print(\"\".join(line['token']))\n",
    "        print(\"<{},{},{}>\".format(line['h']['name'],line['relation'],line['t']['name'] ))\n",
    "        print(\"\")\n",
    "        print(\"-\"*50)\n",
    "        index += 1\n",
    "        if index == MAX_LEN:\n",
    "            break"
   ]
  },
  {
   "cell_type": "markdown",
   "metadata": {},
   "source": [
    "## Bert 预训练模型\n",
    "\n",
    "1. 下载预训练的中文 \n",
    "2. 放`OpenNER`的`./pretrain/`目录中\n",
    "\n",
    "![](./files/Bert.png)\n",
    "![](./files/Bert2.png)"
   ]
  },
  {
   "cell_type": "code",
   "execution_count": 6,
   "metadata": {},
   "outputs": [],
   "source": [
    "root_path = \"./\"\n",
    "# Check data\n",
    "rel2id = json.load(open(os.path.join(root_path, 'data/people-relation/people-relation_rel2id.json')))"
   ]
  },
  {
   "cell_type": "code",
   "execution_count": 7,
   "metadata": {
    "scrolled": true
   },
   "outputs": [
    {
     "data": {
      "text/plain": "{'父母': 0,\n '夫妻': 1,\n '师生': 2,\n '兄弟姐妹': 3,\n '合作': 4,\n '情侣': 5,\n '祖孙': 6,\n '好友': 7,\n '亲戚': 8,\n '同门': 9,\n '上下级': 10,\n 'unknown': 11}"
     },
     "execution_count": 7,
     "metadata": {},
     "output_type": "execute_result"
    }
   ],
   "source": [
    "rel2id"
   ]
  },
  {
   "cell_type": "markdown",
   "metadata": {},
   "source": [
    "\n",
    "## Define the sentence encoder"
   ]
  },
  {
   "cell_type": "code",
   "execution_count": 8,
   "metadata": {},
   "outputs": [
    {
     "data": {
      "text/plain": "'./pretrain/chinese_wwm_pytorch'"
     },
     "execution_count": 8,
     "metadata": {},
     "output_type": "execute_result"
    }
   ],
   "source": [
    "os.path.join(root_path,'pretrain/chinese_wwm_pytorch')"
   ]
  },
  {
   "cell_type": "code",
   "execution_count": 9,
   "metadata": {
    "scrolled": true
   },
   "outputs": [
    {
     "name": "stderr",
     "output_type": "stream",
     "text": [
      "2022-04-24 21:15:14,879 - root - INFO - Loading BERT pre-trained checkpoint.\n",
      "Some weights of the model checkpoint at ./pretrain/chinese_wwm_pytorch were not used when initializing BertModel: ['cls.predictions.transform.LayerNorm.bias', 'cls.seq_relationship.weight', 'cls.seq_relationship.bias', 'cls.predictions.transform.LayerNorm.weight', 'cls.predictions.bias', 'cls.predictions.decoder.weight', 'cls.predictions.transform.dense.bias', 'cls.predictions.transform.dense.weight']\n",
      "- This IS expected if you are initializing BertModel from the checkpoint of a model trained on another task or with another architecture (e.g. initializing a BertForSequenceClassification model from a BertForPreTraining model).\n",
      "- This IS NOT expected if you are initializing BertModel from the checkpoint of a model that you expect to be exactly identical (initializing a BertForSequenceClassification model from a BertForSequenceClassification model).\n"
     ]
    }
   ],
   "source": [
    "sentence_encoder = opennre.encoder.BERTEncoder(\n",
    "    max_length=80, \n",
    "    pretrain_path=os.path.join(root_path,'pretrain/chinese_wwm_pytorch'),\n",
    "    mask_entity='store_true'\n",
    ")"
   ]
  },
  {
   "cell_type": "markdown",
   "metadata": {},
   "source": [
    "## Define the model"
   ]
  },
  {
   "cell_type": "code",
   "execution_count": 10,
   "metadata": {},
   "outputs": [],
   "source": [
    "model = opennre.model.SoftmaxNN(sentence_encoder, len(rel2id), rel2id)\n",
    "ckpt = './ckpt/v3/model.pth'"
   ]
  },
  {
   "cell_type": "code",
   "execution_count": 11,
   "metadata": {},
   "outputs": [
    {
     "name": "stderr",
     "output_type": "stream",
     "text": [
      "2022-04-24 21:20:40,200 - root - INFO - Loaded sentence RE dataset ./data/people-relation/people-relation_train.txt with 198000 lines and 12 relations.\n",
      "2022-04-24 21:20:40,305 - root - INFO - Loaded sentence RE dataset ./data/people-relation/people-relation_val.txt with 1000 lines and 12 relations.\n",
      "2022-04-24 21:20:40,426 - root - INFO - Loaded sentence RE dataset ./data/people-relation/people-relation_val.txt with 1000 lines and 12 relations.\n",
      "/Users/fenghaoguo/opt/anaconda3/envs/p39/lib/python3.9/site-packages/transformers/optimization.py:306: FutureWarning: This implementation of AdamW is deprecated and will be removed in a future version. Use the PyTorch implementation torch.optim.AdamW instead, or set `no_deprecation_warning=True` to disable this warning\n",
      "  warnings.warn(\n",
      "2022-04-24 21:20:40,442 - root - INFO - === Epoch 0 train ===\n",
      "  0%|          | 26/6188 [10:01<30:34:30, 17.86s/it, acc=0.132, loss=2.47]  Exception ignored in: <function _MultiProcessingDataLoaderIter.__del__ at 0x7fcfc937df70>\n",
      "Traceback (most recent call last):\n",
      "  File \"/Users/fenghaoguo/opt/anaconda3/envs/p39/lib/python3.9/site-packages/torch/utils/data/dataloader.py\", line 1357, in __del__\n",
      "    def __del__(self):\n",
      "  File \"/Users/fenghaoguo/opt/anaconda3/envs/p39/lib/python3.9/site-packages/torch/utils/data/_utils/signal_handling.py\", line 66, in handler\n",
      "    _error_if_any_worker_fails()\n",
      "RuntimeError: DataLoader worker (pid 11074) is killed by signal: Interrupt: 2. \n",
      "Exception ignored in: <function _ConnectionBase.__del__ at 0x7fcfc914e670>\n",
      "Traceback (most recent call last):\n",
      "  File \"/Users/fenghaoguo/opt/anaconda3/envs/p39/lib/python3.9/multiprocessing/connection.py\", line 135, in __del__\n",
      "    def __del__(self):\n",
      "KeyboardInterrupt: \n",
      "  0%|          | 26/6188 [10:18<40:41:24, 23.77s/it, acc=0.132, loss=2.47]\n",
      "\n",
      "KeyboardInterrupt\n",
      "\n"
     ]
    },
    {
     "name": "stdout",
     "output_type": "stream",
     "text": [
      "Error in callback <bound method AutoreloadMagics.post_execute_hook of <IPython.extensions.autoreload.AutoreloadMagics object at 0x7fcfc6c11340>> (for post_execute):\n"
     ]
    },
    {
     "ename": "KeyboardInterrupt",
     "evalue": "",
     "output_type": "error",
     "traceback": [
      "\u001B[0;31m---------------------------------------------------------------------------\u001B[0m",
      "\u001B[0;31mKeyboardInterrupt\u001B[0m                         Traceback (most recent call last)",
      "File \u001B[0;32m~/.local/lib/python3.9/site-packages/IPython/extensions/autoreload.py:613\u001B[0m, in \u001B[0;36mAutoreloadMagics.post_execute_hook\u001B[0;34m(self)\u001B[0m\n\u001B[1;32m    611\u001B[0m \u001B[38;5;28;01mdef\u001B[39;00m \u001B[38;5;21mpost_execute_hook\u001B[39m(\u001B[38;5;28mself\u001B[39m):\n\u001B[1;32m    612\u001B[0m     \u001B[38;5;124;03m\"\"\"Cache the modification times of any modules imported in this execution\"\"\"\u001B[39;00m\n\u001B[0;32m--> 613\u001B[0m     newly_loaded_modules \u001B[38;5;241m=\u001B[39m \u001B[38;5;28;43mset\u001B[39;49m\u001B[43m(\u001B[49m\u001B[43msys\u001B[49m\u001B[38;5;241;43m.\u001B[39;49m\u001B[43mmodules\u001B[49m\u001B[43m)\u001B[49m \u001B[38;5;241m-\u001B[39m \u001B[38;5;28mself\u001B[39m\u001B[38;5;241m.\u001B[39mloaded_modules\n\u001B[1;32m    614\u001B[0m     \u001B[38;5;28;01mfor\u001B[39;00m modname \u001B[38;5;129;01min\u001B[39;00m newly_loaded_modules:\n\u001B[1;32m    615\u001B[0m         _, pymtime \u001B[38;5;241m=\u001B[39m \u001B[38;5;28mself\u001B[39m\u001B[38;5;241m.\u001B[39m_reloader\u001B[38;5;241m.\u001B[39mfilename_and_mtime(sys\u001B[38;5;241m.\u001B[39mmodules[modname])\n",
      "\u001B[0;31mKeyboardInterrupt\u001B[0m: "
     ]
    }
   ],
   "source": [
    "# Define the whole training framework\n",
    "framework = opennre.framework.SentenceRE(\n",
    "    train_path=os.path.join(root_path, 'data/people-relation/people-relation_train.txt'),\n",
    "    val_path=os.path.join(root_path, 'data/people-relation/people-relation_val.txt'),\n",
    "    test_path=os.path.join(root_path, 'data/people-relation/people-relation_val.txt'),\n",
    "    model=model,\n",
    "    ckpt=ckpt,\n",
    "    batch_size=32, # Modify the batch size w.r.t. your device\n",
    "    max_epoch=1,\n",
    "    lr=2e-5,\n",
    "    opt='adamw'\n",
    ")\n",
    "\n",
    "# Train the model\n",
    "framework.train_model()"
   ]
  },
  {
   "cell_type": "code",
   "execution_count": null,
   "metadata": {},
   "outputs": [],
   "source": [
    "# Test the model\n",
    "framework.load_state_dict(torch.load(ckpt)['state_dict'])\n",
    "result = framework.eval_model(framework.test_loader)\n",
    "\n",
    "# Print the result\n",
    "print('Accuracy on test set: {}'.format(result['acc']))"
   ]
  },
  {
   "cell_type": "code",
   "execution_count": null,
   "metadata": {},
   "outputs": [],
   "source": []
  }
 ],
 "metadata": {
  "kernelspec": {
   "display_name": "Python 3 (ipykernel)",
   "language": "python",
   "name": "python3"
  },
  "language_info": {
   "codemirror_mode": {
    "name": "ipython",
    "version": 3
   },
   "file_extension": ".py",
   "mimetype": "text/x-python",
   "name": "python",
   "nbconvert_exporter": "python",
   "pygments_lexer": "ipython3",
   "version": "3.9.7"
  }
 },
 "nbformat": 4,
 "nbformat_minor": 2
}